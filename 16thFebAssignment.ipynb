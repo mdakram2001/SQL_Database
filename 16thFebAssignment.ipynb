{
 "cells": [
  {
   "cell_type": "code",
   "execution_count": 1,
   "id": "f678880e-2e0e-440d-838a-76829004d0b8",
   "metadata": {},
   "outputs": [
    {
     "data": {
      "text/plain": [
       "\"Q1: What is a database? Differentiate between SQL and NoSQL databases.\\nAns:\\n\\nA database is an organized collection of structured information, or data, typically stored electronically in a computer system.\\nIt is a system that stores and manages data, making it easy to retrieve, update, and manipulate as needed.\\n\\nSQL vs NoSQL:\\nSQL databases define and manipulate data-based structured query language (SQL). SQL databases are relational databases, \\nmeaning they organize data into tables with defined relationships between them. SQL databases are most commonly used for \\ncomplex queries and complex transactions. Examples of popular SQL databases include MySQL, Oracle, and Microsoft SQL Server.\\n\\nNoSQL databases are non-relational databases, meaning they don't use tables with predefined relationships between them.\\nData is stored in many ways which means it can be document-oriented, column-oriented, graph-based, or organized as a key-value\\nstore. NoSQL databases are highly scalable and can handle large volumes of data with high throughput rates.\\nExamples of popular NoSQL databases include MongoDB, Amazon DynamoDB etc.\""
      ]
     },
     "execution_count": 1,
     "metadata": {},
     "output_type": "execute_result"
    }
   ],
   "source": [
    "\"\"\"Q1: What is a database? Differentiate between SQL and NoSQL databases.\n",
    "Ans:\n",
    "\n",
    "A database is an organized collection of structured information, or data, typically stored electronically in a computer system.\n",
    "It is a system that stores and manages data, making it easy to retrieve, update, and manipulate as needed.\n",
    "\n",
    "SQL vs NoSQL:\n",
    "SQL databases define and manipulate data-based structured query language (SQL). SQL databases are relational databases, \n",
    "meaning they organize data into tables with defined relationships between them. SQL databases are most commonly used for \n",
    "complex queries and complex transactions. Examples of popular SQL databases include MySQL, Oracle, and Microsoft SQL Server.\n",
    "\n",
    "NoSQL databases are non-relational databases, meaning they don't use tables with predefined relationships between them.\n",
    "Data is stored in many ways which means it can be document-oriented, column-oriented, graph-based, or organized as a key-value\n",
    "store. NoSQL databases are highly scalable and can handle large volumes of data with high throughput rates.\n",
    "Examples of popular NoSQL databases include MongoDB, Amazon DynamoDB etc.\"\"\""
   ]
  },
  {
   "cell_type": "code",
   "execution_count": 3,
   "id": "afbb4f6e-1167-4683-8278-09eeafd30632",
   "metadata": {},
   "outputs": [
    {
     "data": {
      "text/plain": [
       "'Q2: What is DDL? Explain why CREATE, DROP, ALTER, and TRUNCATE are used with an example.\\nAns: \\n\\nDDL stands for Data Definition Language, which is used to create and modify the structure of database objects such as tables,\\nindexes, views, and constraints. It is a subset of SQL (Structured Query Language).\\n\\nCREATE: The CREATE command is used to create a new database object such as a table, view, or index.\\nFor e.g,\\nCREATE TABLE new_table(c1 INT, c2 VARCHAR(50), c3 FLOAT, c4 INT, c5 VARCHAR(30));\\n\\nDROP: The DROP command is used to remove an existing database object such as a table or view.\\nFor e.g,\\nDROP TABLE new_table;\\n\\nALTER: The ALTER command is used to modify the structure of an existing database object such as a table or view.\\nFor e.g,\\nALTER TABLE new_tablr ADD COLUMN added_com VARCHAR(50);\\n\\nTRUNCATE: The TRUNCATE command is used to remove all rows from an existing table, while keeping the structure of \\nthe table intact.\\nFor e.g:\\nTRUNCATE TABLE new_table;'"
      ]
     },
     "execution_count": 3,
     "metadata": {},
     "output_type": "execute_result"
    }
   ],
   "source": [
    "\"\"\"Q2: What is DDL? Explain why CREATE, DROP, ALTER, and TRUNCATE are used with an example.\n",
    "Ans: \n",
    "\n",
    "DDL stands for Data Definition Language, which is used to create and modify the structure of database objects such as tables,\n",
    "indexes, views, and constraints. It is a subset of SQL (Structured Query Language).\n",
    "\n",
    "CREATE: The CREATE command is used to create a new database object such as a table, view, or index.\n",
    "For e.g,\n",
    "\"\"\"CREATE TABLE new_table(c1 INT, c2 VARCHAR(50), c3 FLOAT, c4 INT, c5 VARCHAR(30));\"\"\"\n",
    "\n",
    "DROP: The DROP command is used to remove an existing database object such as a table or view.\n",
    "For e.g,\n",
    "\"\"\"DROP TABLE new_table;\"\"\"\n",
    "\n",
    "ALTER: The ALTER command is used to modify the structure of an existing database object such as a table or view.\n",
    "For e.g,\n",
    "\"\"\"ALTER TABLE new_tablr ADD COLUMN added_com VARCHAR(50);\"\"\"\n",
    "\n",
    "TRUNCATE: The TRUNCATE command is used to remove all rows from an existing table, while keeping the structure of \n",
    "the table intact.\n",
    "For e.g:\n",
    "\"\"\"TRUNCATE TABLE new_table;\"\"\""
   ]
  },
  {
   "cell_type": "code",
   "execution_count": null,
   "id": "d521b100-6091-45c0-82d2-bccf825f95c3",
   "metadata": {},
   "outputs": [],
   "source": [
    "\"\"\"Q3: What is DML? Explain INSERT, UPDATE, and DELETE with an example.\n",
    "Ans: \n",
    "\n",
    "DML stands for Data Manipulation Language, which is a subset of SQL used to manipulate the data stored in a database.\n",
    "\n",
    "INSERT: The INSERT command is used to insert new data into a table. \n",
    "For e.g,\n",
    "\"\"\"INSERT INTO new_table(no, name, age)\n",
    "   VALUES(1, Akram, 22)\"\"\"\n",
    "\n",
    "UPDATE: The UPDATE command is used to modify existing data in a table.\n",
    "For e.g,\n",
    "\"\"\"UPDATE new_table SET age = 23 WHERE no = 1;\"\"\"\n",
    "\n",
    "DELETE: The DELETE command is used to remove existing data from a table.\n",
    "For e.g,\n",
    "\"\"\"DELETE FROM new_table WHERE no = 1;\"\"\""
   ]
  },
  {
   "cell_type": "code",
   "execution_count": 1,
   "id": "acdccb55-79d5-4e36-8408-28cd8ea59bbe",
   "metadata": {},
   "outputs": [
    {
     "data": {
      "text/plain": [
       "'Q4: What is DQL? Explain SELECT with an example.\\nAns:\\n\\nDQL stands for Data Query Language, which is a subset of SQL (Structured Query Language) used to retrieve data from\\na database.\\n\\nThe SELECT statement is used to select data from a database.The data returned is stored in a result table.\\nSELECT Syntax:\\nSELECT column1, column2, ... FROM table_name WHERE condition;\\n\\n1.Examples:\\nTo select all columns from the \"new_table\" table:\\nSELECT * FROM new_table;\\n\\n2.Examples:\\nTo select specific columns from the \"new_table\" table:\\nSELECT no, name, age FROM new_table;\\n\\n3.Examples:\\nTo select all columns with a condition from the \"new_table\" table:\\nSELECT * FROM new_table WHERE no = 1;'"
      ]
     },
     "execution_count": 1,
     "metadata": {},
     "output_type": "execute_result"
    }
   ],
   "source": [
    "\"\"\"Q4: What is DQL? Explain SELECT with an example.\n",
    "Ans:\n",
    "\n",
    "DQL stands for Data Query Language, which is a subset of SQL (Structured Query Language) used to retrieve data from\n",
    "a database.\n",
    "\n",
    "The SELECT statement is used to select data from a database.The data returned is stored in a result table.\n",
    "SELECT Syntax:\n",
    "SELECT column1, column2, ... FROM table_name WHERE condition;\n",
    "\n",
    "1.Examples:\n",
    "To select all columns from the \"new_table\" table:\n",
    "SELECT * FROM new_table;\n",
    "\n",
    "2.Examples:\n",
    "To select specific columns from the \"new_table\" table:\n",
    "SELECT no, name, age FROM new_table;\n",
    "\n",
    "3.Examples:\n",
    "To select all columns with a condition from the \"new_table\" table:\n",
    "SELECT * FROM new_table WHERE no = 1;\"\"\""
   ]
  },
  {
   "cell_type": "code",
   "execution_count": 1,
   "id": "68d49753-dc18-4086-a072-0c9cf50bc85b",
   "metadata": {},
   "outputs": [
    {
     "data": {
      "text/plain": [
       "'Q5. Explain Primary Key and Foreign Key.\\nAns:\\n\\nA primary key is created using one or more columns in a table, and it is denoted by a key symbol or the PRIMARY KEY\\nconstraint in database schema definitions.\\nForeign keys help establish relationships, enforce constraints, and maintain data consistency across multiple tables in a \\nrelational database.They are denoted by a foreign key symbol or specified using the FOREIGN KEY constraint in database schema\\ndefinitions.\\n\\n'"
      ]
     },
     "execution_count": 1,
     "metadata": {},
     "output_type": "execute_result"
    }
   ],
   "source": [
    "\"\"\"Q5. Explain Primary Key and Foreign Key.\n",
    "Ans:\n",
    "\n",
    "A primary key is created using one or more columns in a table, and it is denoted by a key symbol or the PRIMARY KEY\n",
    "constraint in database schema definitions.\n",
    "Foreign keys help establish relationships, enforce constraints, and maintain data consistency across multiple tables in a \n",
    "relational database.They are denoted by a foreign key symbol or specified using the FOREIGN KEY constraint in database schema\n",
    "definitions.\n",
    "\n",
    "\"\"\""
   ]
  },
  {
   "cell_type": "code",
   "execution_count": null,
   "id": "c15dde51-baf2-4d7e-987b-b403a95ac9f9",
   "metadata": {},
   "outputs": [],
   "source": [
    "\"\"\"Q6. Write a python code to connect MySQL to python. Explain the cursor() and execute() method.\n",
    "Ans:\"\"\"\n",
    "import mysql.connector\n",
    "mydb = mysql.connector.connect(\n",
    "  host=\"localhost\",\n",
    "  user=\"abc\",\n",
    "  password=\"password\"\n",
    ")\n",
    "print(mydb)\n",
    "mycursor = mydb.cursor()\n",
    "mycursor.execute(\"SHOW DATABASES\")\n",
    "for x in mycursor:\n",
    "  print(x)\n",
    "\n",
    "\"\"\"cursor() method:\n",
    "The cursor() method is used to create a cursor object in Python that allows you to interact with the database. \n",
    "The cursor acts as a handle or control structure that enables you to execute SQL queries and retrieve the results. \n",
    "The cursor provides methods to execute queries, fetch data, and perform various database operations.\n",
    "When you establish a connection to a database using a library like mysql-connector-python, you can create a cursor \n",
    "object using the cursor() method provided by the database connector. This method is typically called on the connection \n",
    "object, as shown in the example code.\n",
    "\n",
    "execute() method:\n",
    "The execute() method is used to execute SQL statements or queries through the cursor object. It allows you to send SQL \n",
    "statements to the database for execution.\n",
    "To use the execute() method, you pass the SQL query or statement as a parameter to the method. The query can be a\n",
    "SELECT, INSERT, UPDATE, DELETE, or any other valid SQL statement.\"\"\""
   ]
  },
  {
   "cell_type": "code",
   "execution_count": null,
   "id": "b1a9f36b-1989-48d5-a2c5-dd6f27add91c",
   "metadata": {},
   "outputs": [],
   "source": [
    "\"\"\"Q7. Give the order of execution of SQL clauses in an SQL query.\n",
    "Ans:\n",
    "The order of execution of SQL clauses in an SQL query is:\n",
    "\n",
    "FROM: Specifies the source tables from which data will be retrieved.\n",
    "JOIN: Performs any necessary join operations to combine rows from multiple tables.\n",
    "WHERE: Applies filtering conditions to select specific rows that meet the given criteria.\n",
    "GROUP BY: Groups the selected rows based on specified columns.\n",
    "HAVING: Filters the grouped rows based on specified conditions.\n",
    "SELECT: Specifies the columns or expressions to be included in the result set.\n",
    "DISTINCT: Removes duplicate rows from the result set.\n",
    "ORDER BY: Sorts the result set based on specified columns or expressions.\n",
    "LIMIT / OFFSET: Limits the number of rows returned and provides pagination support.\n",
    "\"\"\""
   ]
  }
 ],
 "metadata": {
  "kernelspec": {
   "display_name": "Python 3 (ipykernel)",
   "language": "python",
   "name": "python3"
  },
  "language_info": {
   "codemirror_mode": {
    "name": "ipython",
    "version": 3
   },
   "file_extension": ".py",
   "mimetype": "text/x-python",
   "name": "python",
   "nbconvert_exporter": "python",
   "pygments_lexer": "ipython3",
   "version": "3.10.8"
  }
 },
 "nbformat": 4,
 "nbformat_minor": 5
}
